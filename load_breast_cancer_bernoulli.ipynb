{
 "cells": [
  {
   "cell_type": "code",
   "execution_count": 1,
   "metadata": {},
   "outputs": [],
   "source": [
    "from sklearn.datasets import load_breast_cancer\n",
    "# import pandas as pd\n",
    "data = load_breast_cancer()\n",
    "\n",
    "label_names = data['target_names']\n",
    "\n",
    "labels = data['target']\n",
    "\n",
    "feature_names = data['feature_names']\n",
    "\n",
    "features = data['data']\n"
   ]
  },
  {
   "cell_type": "code",
   "execution_count": 2,
   "metadata": {},
   "outputs": [
    {
     "name": "stdout",
     "output_type": "stream",
     "text": [
      "63.1578947368421\n"
     ]
    }
   ],
   "source": [
    "from sklearn.model_selection import train_test_split\n",
    "from sklearn.naive_bayes import BernoulliNB\n",
    "from sklearn.metrics import accuracy_score\n",
    "\n",
    "xtrain, xtest, ytrain, ytest = train_test_split(features,\n",
    "                                                labels,\n",
    "                                                stratify=labels,\n",
    "                                                test_size=0.2,\n",
    "                                                random_state = 1)\n",
    "bnb = BernoulliNB()\n",
    "model = bnb.fit(xtrain, ytrain)\n",
    "prediction = model.predict(xtest)\n",
    "acc = accuracy_score(ytest, prediction)\n",
    "print(acc*100)"
   ]
  },
  {
   "cell_type": "markdown",
   "metadata": {},
   "source": [
    "Opinion: even that labels are binary (and my first opinion was that bernoulli model can predict better than gauss because of that) we see that bernoulli is less accurate.\n",
    "It turnes out that for bernoulli model features should also be binary.\n",
    "\n"
   ]
  }
 ],
 "metadata": {
  "kernelspec": {
   "display_name": ".venv",
   "language": "python",
   "name": "python3"
  },
  "language_info": {
   "codemirror_mode": {
    "name": "ipython",
    "version": 3
   },
   "file_extension": ".py",
   "mimetype": "text/x-python",
   "name": "python",
   "nbconvert_exporter": "python",
   "pygments_lexer": "ipython3",
   "version": "3.12.3"
  }
 },
 "nbformat": 4,
 "nbformat_minor": 2
}
