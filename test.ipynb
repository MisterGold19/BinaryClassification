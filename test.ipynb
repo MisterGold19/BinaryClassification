{
 "cells": [
  {
   "cell_type": "code",
   "execution_count": 5,
   "metadata": {},
   "outputs": [
    {
     "data": {
      "text/html": [
       "<div>\n",
       "<style scoped>\n",
       "    .dataframe tbody tr th:only-of-type {\n",
       "        vertical-align: middle;\n",
       "    }\n",
       "\n",
       "    .dataframe tbody tr th {\n",
       "        vertical-align: top;\n",
       "    }\n",
       "\n",
       "    .dataframe thead th {\n",
       "        text-align: right;\n",
       "    }\n",
       "</style>\n",
       "<table border=\"1\" class=\"dataframe\">\n",
       "  <thead>\n",
       "    <tr style=\"text-align: right;\">\n",
       "      <th></th>\n",
       "      <th>Age</th>\n",
       "      <th>Gender</th>\n",
       "      <th>BMI</th>\n",
       "      <th>Smoking</th>\n",
       "      <th>GeneticRisk</th>\n",
       "      <th>PhysicalActivity</th>\n",
       "      <th>AlcoholIntake</th>\n",
       "      <th>CancerHistory</th>\n",
       "      <th>Diagnosis</th>\n",
       "    </tr>\n",
       "  </thead>\n",
       "  <tbody>\n",
       "    <tr>\n",
       "      <th>0</th>\n",
       "      <td>58</td>\n",
       "      <td>1</td>\n",
       "      <td>16.085313</td>\n",
       "      <td>0</td>\n",
       "      <td>1</td>\n",
       "      <td>8.146251</td>\n",
       "      <td>4.148219</td>\n",
       "      <td>1</td>\n",
       "      <td>1</td>\n",
       "    </tr>\n",
       "    <tr>\n",
       "      <th>1</th>\n",
       "      <td>71</td>\n",
       "      <td>0</td>\n",
       "      <td>30.828784</td>\n",
       "      <td>0</td>\n",
       "      <td>1</td>\n",
       "      <td>9.361630</td>\n",
       "      <td>3.519683</td>\n",
       "      <td>0</td>\n",
       "      <td>0</td>\n",
       "    </tr>\n",
       "    <tr>\n",
       "      <th>2</th>\n",
       "      <td>48</td>\n",
       "      <td>1</td>\n",
       "      <td>38.785084</td>\n",
       "      <td>0</td>\n",
       "      <td>2</td>\n",
       "      <td>5.135179</td>\n",
       "      <td>4.728368</td>\n",
       "      <td>0</td>\n",
       "      <td>1</td>\n",
       "    </tr>\n",
       "    <tr>\n",
       "      <th>3</th>\n",
       "      <td>34</td>\n",
       "      <td>0</td>\n",
       "      <td>30.040296</td>\n",
       "      <td>0</td>\n",
       "      <td>0</td>\n",
       "      <td>9.502792</td>\n",
       "      <td>2.044636</td>\n",
       "      <td>0</td>\n",
       "      <td>0</td>\n",
       "    </tr>\n",
       "    <tr>\n",
       "      <th>4</th>\n",
       "      <td>62</td>\n",
       "      <td>1</td>\n",
       "      <td>35.479721</td>\n",
       "      <td>0</td>\n",
       "      <td>0</td>\n",
       "      <td>5.356890</td>\n",
       "      <td>3.309849</td>\n",
       "      <td>0</td>\n",
       "      <td>1</td>\n",
       "    </tr>\n",
       "  </tbody>\n",
       "</table>\n",
       "</div>"
      ],
      "text/plain": [
       "   Age  Gender        BMI  Smoking  GeneticRisk  PhysicalActivity  \\\n",
       "0   58       1  16.085313        0            1          8.146251   \n",
       "1   71       0  30.828784        0            1          9.361630   \n",
       "2   48       1  38.785084        0            2          5.135179   \n",
       "3   34       0  30.040296        0            0          9.502792   \n",
       "4   62       1  35.479721        0            0          5.356890   \n",
       "\n",
       "   AlcoholIntake  CancerHistory  Diagnosis  \n",
       "0       4.148219              1          1  \n",
       "1       3.519683              0          0  \n",
       "2       4.728368              0          1  \n",
       "3       2.044636              0          0  \n",
       "4       3.309849              0          1  "
      ]
     },
     "execution_count": 5,
     "metadata": {},
     "output_type": "execute_result"
    }
   ],
   "source": [
    "import pandas as pd\n",
    "\n",
    "df = pd.read_csv(\"The_Cancer_data_1500_V2.csv\").dropna()\n",
    "df.head()"
   ]
  },
  {
   "cell_type": "code",
   "execution_count": 6,
   "metadata": {},
   "outputs": [
    {
     "name": "stdout",
     "output_type": "stream",
     "text": [
      "   Age  Gender        BMI  Smoking  GeneticRisk  PhysicalActivity  \\\n",
      "0   58       1  16.085313        0            1          8.146251   \n",
      "1   71       0  30.828784        0            1          9.361630   \n",
      "2   48       1  38.785084        0            2          5.135179   \n",
      "3   34       0  30.040296        0            0          9.502792   \n",
      "4   62       1  35.479721        0            0          5.356890   \n",
      "\n",
      "   AlcoholIntake  CancerHistory  \n",
      "0       4.148219              1  \n",
      "1       3.519683              0  \n",
      "2       4.728368              0  \n",
      "3       2.044636              0  \n",
      "4       3.309849              0  \n"
     ]
    },
    {
     "data": {
      "text/plain": [
       "0    1\n",
       "1    0\n",
       "2    1\n",
       "3    0\n",
       "4    1\n",
       "Name: Diagnosis, dtype: int64"
      ]
     },
     "execution_count": 6,
     "metadata": {},
     "output_type": "execute_result"
    }
   ],
   "source": [
    "X = df.drop(columns='Diagnosis')\n",
    "y = df['Diagnosis']\n",
    "print(X.head())\n",
    "y.head()"
   ]
  },
  {
   "cell_type": "code",
   "execution_count": 7,
   "metadata": {},
   "outputs": [],
   "source": [
    "from sklearn.model_selection import train_test_split\n",
    "\n",
    "X_train, X_test, y_train, y_test = train_test_split(X, y, test_size=0.2)"
   ]
  },
  {
   "cell_type": "code",
   "execution_count": 8,
   "metadata": {},
   "outputs": [
    {
     "name": "stdout",
     "output_type": "stream",
     "text": [
      "Using cpu device\n"
     ]
    }
   ],
   "source": [
    "import torch\n",
    "device = (\n",
    "    \"cuda\"\n",
    "    if torch.cuda.is_available()\n",
    "    else \"mps\"\n",
    "    if torch.backends.mps.is_available()\n",
    "    else \"cpu\"\n",
    ")\n",
    "print(f\"Using {device} device\")\n"
   ]
  },
  {
   "cell_type": "code",
   "execution_count": null,
   "metadata": {},
   "outputs": [],
   "source": [
    "print(\"testuję brancha\")"
   ]
  }
 ],
 "metadata": {
  "kernelspec": {
   "display_name": ".venv",
   "language": "python",
   "name": "python3"
  },
  "language_info": {
   "codemirror_mode": {
    "name": "ipython",
    "version": 3
   },
   "file_extension": ".py",
   "mimetype": "text/x-python",
   "name": "python",
   "nbconvert_exporter": "python",
   "pygments_lexer": "ipython3",
   "version": "3.12.3"
  }
 },
 "nbformat": 4,
 "nbformat_minor": 2
}
